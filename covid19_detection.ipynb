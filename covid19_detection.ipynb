{
  "nbformat": 4,
  "nbformat_minor": 0,
  "metadata": {
    "accelerator": "GPU",
    "colab": {
      "name": "covid19_detection.ipynb",
      "provenance": [],
      "collapsed_sections": [],
      "authorship_tag": "ABX9TyM60TaP8tLfYpU/obctwikN"
    },
    "kernelspec": {
      "display_name": "Python 3",
      "name": "python3"
    }
  },
  "cells": [
    {
      "cell_type": "code",
      "metadata": {
        "id": "BIwh7rTh6XFz"
      },
      "source": [
        "!pip install --upgrade --ignore-installed kaggle\r\n"
      ],
      "execution_count": null,
      "outputs": []
    },
    {
      "cell_type": "code",
      "metadata": {
        "colab": {
          "resources": {
            "http://localhost:8080/nbextensions/google.colab/files.js": {
              "data": "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",
              "ok": true,
              "headers": [
                [
                  "content-type",
                  "application/javascript"
                ]
              ],
              "status": 200,
              "status_text": ""
            }
          },
          "base_uri": "https://localhost:8080/",
          "height": 91
        },
        "id": "niJpdSKh95ll",
        "outputId": "496d0fc4-668d-43d9-c405-185ac5b9f3a3"
      },
      "source": [
        "from google.colab import files\r\n",
        "files.upload()"
      ],
      "execution_count": 2,
      "outputs": [
        {
          "output_type": "display_data",
          "data": {
            "text/html": [
              "\n",
              "     <input type=\"file\" id=\"files-6f6f2390-8afb-4726-b4e3-c037d0a0cd9b\" name=\"files[]\" multiple disabled\n",
              "        style=\"border:none\" />\n",
              "     <output id=\"result-6f6f2390-8afb-4726-b4e3-c037d0a0cd9b\">\n",
              "      Upload widget is only available when the cell has been executed in the\n",
              "      current browser session. Please rerun this cell to enable.\n",
              "      </output>\n",
              "      <script src=\"/nbextensions/google.colab/files.js\"></script> "
            ],
            "text/plain": [
              "<IPython.core.display.HTML object>"
            ]
          },
          "metadata": {
            "tags": []
          }
        },
        {
          "output_type": "stream",
          "text": [
            "Saving kaggle.json to kaggle.json\n"
          ],
          "name": "stdout"
        },
        {
          "output_type": "execute_result",
          "data": {
            "text/plain": [
              "{'kaggle.json': b'{\"username\":\"muhammadsohail123\",\"key\":\"629ebb4ab3f9bc22d9c6dd446436e98a\"}'}"
            ]
          },
          "metadata": {
            "tags": []
          },
          "execution_count": 2
        }
      ]
    },
    {
      "cell_type": "code",
      "metadata": {
        "id": "3Vseo7Vj-N-x",
        "colab": {
          "base_uri": "https://localhost:8080/"
        },
        "outputId": "94de3c7c-ce85-4ed1-9f75-ac26a903c011"
      },
      "source": [
        "!mkdir ~/.kaggle #created at root folder in colab"
      ],
      "execution_count": 3,
      "outputs": [
        {
          "output_type": "stream",
          "text": [
            "mkdir: cannot create directory ‘/root/.kaggle’: File exists\n"
          ],
          "name": "stdout"
        }
      ]
    },
    {
      "cell_type": "code",
      "metadata": {
        "id": "Fzweizrj-f0O"
      },
      "source": [
        "#copy\r\n",
        "!cp kaggle.json ~/.kaggle"
      ],
      "execution_count": 4,
      "outputs": []
    },
    {
      "cell_type": "code",
      "metadata": {
        "id": "3v9glZBp-nAB"
      },
      "source": [
        "! chmod 600 ~/.kaggle/kaggle.json"
      ],
      "execution_count": 5,
      "outputs": []
    },
    {
      "cell_type": "code",
      "metadata": {
        "colab": {
          "base_uri": "https://localhost:8080/"
        },
        "id": "bKYnt2RW-1v7",
        "outputId": "54e1c4b2-fc4a-47bf-adc2-30b7a90d12ae"
      },
      "source": [
        "!kaggle datasets download -d darshan1504/covid19-detection-xray-dataset"
      ],
      "execution_count": 6,
      "outputs": [
        {
          "output_type": "stream",
          "text": [
            "Downloading covid19-detection-xray-dataset.zip to /content\n",
            " 97% 180M/186M [00:02<00:00, 80.3MB/s]\n",
            "100% 186M/186M [00:02<00:00, 79.1MB/s]\n"
          ],
          "name": "stdout"
        }
      ]
    },
    {
      "cell_type": "code",
      "metadata": {
        "id": "hs8cnkRejmeG"
      },
      "source": [
        "#unzip dataset in colab session\r\n",
        "!unzip -q covid19-detection-xray-dataset # -q for quiet"
      ],
      "execution_count": 8,
      "outputs": []
    },
    {
      "cell_type": "code",
      "metadata": {
        "colab": {
          "base_uri": "https://localhost:8080/"
        },
        "id": "ZlV11-noj25l",
        "outputId": "6d68b784-a44f-471f-f1bf-b4c0698ba663"
      },
      "source": [
        "from google.colab import drive\r\n",
        "drive.mount('/content/drive')"
      ],
      "execution_count": 9,
      "outputs": [
        {
          "output_type": "stream",
          "text": [
            "Mounted at /content/drive\n"
          ],
          "name": "stdout"
        }
      ]
    },
    {
      "cell_type": "code",
      "metadata": {
        "id": "5nDFmkURkD1K"
      },
      "source": [
        "# copy zipped dataset into your drive\r\n",
        "!cp \"/content/covid19-detection-xray-dataset.zip\" /content/drive/MyDrive/"
      ],
      "execution_count": 10,
      "outputs": []
    },
    {
      "cell_type": "code",
      "metadata": {
        "id": "geuYOm41t6wL"
      },
      "source": [
        "import numpy as np\r\n",
        "from keras import layers\r\n",
        "from keras.layers import Input, Dense, Activation,BatchNormalization, Flatten, Conv2D, MaxPooling2D\r\n",
        "from keras.models import Model\r\n",
        "from keras.preprocessing import image\r\n",
        "from keras.preprocessing.image import ImageDataGenerator\r\n",
        "import keras.backend as K\r\n",
        "K.set_image_data_format('channels_last')\r\n",
        "import matplotlib.pyplot as plt\r\n",
        "import cv2\r\n",
        "import tensorflow as tf\r\n",
        "from keras.models import model_from_json\r\n",
        "from sklearn.preprocessing import LabelBinarizer\r\n",
        "import os\r\n",
        "from imutils import paths\r\n",
        "from tqdm import tqdm\r\n",
        "from matplotlib.pyplot import imshow"
      ],
      "execution_count": 2,
      "outputs": []
    },
    {
      "cell_type": "code",
      "metadata": {
        "colab": {
          "base_uri": "https://localhost:8080/"
        },
        "id": "-m5F-F7w_RVF",
        "outputId": "eaba1755-6bc5-4383-c391-6d89fb4196bd"
      },
      "source": [
        "!ls \"/content\""
      ],
      "execution_count": 3,
      "outputs": [
        {
          "output_type": "stream",
          "text": [
            "covid19-detection-xray-dataset.zip  kaggle.json        sample_data  ValData\n",
            "drive\t\t\t\t    NonAugmentedTrain  TrainData\n"
          ],
          "name": "stdout"
        }
      ]
    },
    {
      "cell_type": "code",
      "metadata": {
        "id": "MP-yiOIZt9do"
      },
      "source": [
        "train_path = \"/content/NonAugmentedTrain\"\r\n",
        "#dataset path"
      ],
      "execution_count": 4,
      "outputs": []
    },
    {
      "cell_type": "code",
      "metadata": {
        "id": "bUduGFkxiZch"
      },
      "source": [
        "# A function to load data from a given directory\r\n",
        "def load_data(data_dir):\r\n",
        "  data = []\r\n",
        "  labels = []\r\n",
        "  class_dirs = os.listdir(data_dir)\r\n",
        "  \r\n",
        "  for direc in class_dirs:\r\n",
        "    class_dir = os.path.join(data_dir, direc)\r\n",
        "    for imagepath in tqdm(list(paths.list_images(class_dir))):\r\n",
        "      image = cv2.imread(imagepath)\r\n",
        "      image = cv2.resize(image, (227, 227))  # incase images not of same size\r\n",
        "      data.append(image)\r\n",
        "      labels.append(direc)\r\n",
        "  # normalizing and converting to numpy array format\r\n",
        "  data = np.array(data, dtype='float')/255.0\r\n",
        "  labels = np.array(labels)\r\n",
        "  return data, labels"
      ],
      "execution_count": 5,
      "outputs": []
    },
    {
      "cell_type": "code",
      "metadata": {
        "colab": {
          "base_uri": "https://localhost:8080/"
        },
        "id": "TXj3408f-s6v",
        "outputId": "aa4ea211-77c7-48b5-da2c-dc6e6e8a0ef5"
      },
      "source": [
        "\r\n",
        "print('loading train images')\r\n",
        "X_train, y_train = load_data(train_path)"
      ],
      "execution_count": 6,
      "outputs": [
        {
          "output_type": "stream",
          "text": [
            "  4%|▍         | 16/412 [00:00<00:02, 159.64it/s]"
          ],
          "name": "stderr"
        },
        {
          "output_type": "stream",
          "text": [
            "loading train images\n"
          ],
          "name": "stdout"
        },
        {
          "output_type": "stream",
          "text": [
            "100%|██████████| 412/412 [00:00<00:00, 448.52it/s]\n",
            "100%|██████████| 880/880 [00:01<00:00, 543.15it/s]\n",
            "100%|██████████| 650/650 [00:01<00:00, 550.07it/s]\n",
            "100%|██████████| 60/60 [00:00<00:00, 530.29it/s]\n"
          ],
          "name": "stderr"
        }
      ]
    },
    {
      "cell_type": "code",
      "metadata": {
        "id": "k-6_c0NUBq6z"
      },
      "source": [
        "lb = LabelBinarizer()\r\n",
        "y_train = lb.fit_transform(y_train)"
      ],
      "execution_count": 8,
      "outputs": []
    },
    {
      "cell_type": "code",
      "metadata": {
        "id": "vuUkaolD3Adr"
      },
      "source": [
        "from keras.models import Sequential\r\n",
        "from keras.layers import Dropout\r\n",
        "\r\n",
        "alexnet=Sequential()\r\n",
        "# 1st Convolutional Layer \r\n",
        "alexnet.add(Conv2D(filters = 96, input_shape = (227, 227, 3),  kernel_size = (11, 11), strides = (4, 4),  padding = 'valid')) \r\n",
        "alexnet.add(Activation('relu')) \r\n",
        "# Max-Pooling  \r\n",
        "alexnet.add(MaxPooling2D(pool_size = (2, 2), strides = (2, 2), padding = 'valid')) \r\n",
        "# Batch Normalisation \r\n",
        "alexnet.add(BatchNormalization()) \r\n",
        "  \r\n",
        "# 2nd Convolutional Layer \r\n",
        "alexnet.add(Conv2D(filters = 256, kernel_size = (11, 11), strides = (1, 1), padding = 'valid')) \r\n",
        "alexnet.add(Activation('relu')) \r\n",
        "# Max-Pooling \r\n",
        "alexnet.add(MaxPooling2D(pool_size = (2, 2), strides = (2, 2),  padding = 'valid')) \r\n",
        "# Batch Normalisation \r\n",
        "alexnet.add(BatchNormalization()) \r\n",
        "  \r\n",
        "# 3rd Convolutional Layer \r\n",
        "alexnet.add(Conv2D(filters = 384, kernel_size = (3, 3),   strides = (1, 1), padding = 'valid')) \r\n",
        "alexnet.add(Activation('relu')) \r\n",
        "# Batch Normalisation \r\n",
        "alexnet.add(BatchNormalization()) \r\n",
        "  \r\n",
        "# 4th Convolutional Layer \r\n",
        "alexnet.add(Conv2D(filters = 384, kernel_size = (3, 3),  strides = (1, 1), padding = 'valid')) \r\n",
        "alexnet.add(Activation('relu')) \r\n",
        "# Batch Normalisation \r\n",
        "alexnet.add(BatchNormalization()) \r\n",
        "  \r\n",
        "# 5th Convolutional Layer \r\n",
        "alexnet.add(Conv2D(filters = 256, kernel_size = (3, 3), strides = (1, 1), padding = 'valid')) \r\n",
        "alexnet.add(Activation('relu')) \r\n",
        "# Max-Pooling \r\n",
        "alexnet.add(MaxPooling2D(pool_size = (2, 2), strides = (2, 2),  padding = 'valid')) \r\n",
        "# Batch Normalisation \r\n",
        "alexnet.add(BatchNormalization()) \r\n",
        "  \r\n",
        "# Flattening \r\n",
        "alexnet.add(Flatten()) \r\n",
        "  \r\n",
        "# 1st Dense Layer \r\n",
        "alexnet.add(Dense(4096, input_shape = (227*227*3, ))) \r\n",
        "alexnet.add(Activation('relu')) \r\n",
        "# Add Dropout to prevent overfitting \r\n",
        "alexnet.add(Dropout(0.4)) \r\n",
        "# Batch Normalisation \r\n",
        "alexnet.add(BatchNormalization()) \r\n",
        "  \r\n",
        "# 2nd Dense Layer \r\n",
        "alexnet.add(Dense(4096)) \r\n",
        "alexnet.add(Activation('relu')) \r\n",
        "# Add Dropout \r\n",
        "alexnet.add(Dropout(0.4)) \r\n",
        "# Batch Normalisation \r\n",
        "alexnet.add(BatchNormalization()) \r\n",
        "  \r\n",
        "# Output Softmax Layer \r\n",
        "alexnet.add(Dense(4)) \r\n",
        "alexnet.add(Activation('softmax')) \r\n",
        "\r\n"
      ],
      "execution_count": 9,
      "outputs": []
    },
    {
      "cell_type": "code",
      "metadata": {
        "colab": {
          "base_uri": "https://localhost:8080/"
        },
        "id": "00hrR2xC3NA0",
        "outputId": "2294baea-9a4f-464e-8b4c-502e3103da5d"
      },
      "source": [
        "\r\n",
        "# printing summary of model\r\n",
        "alexnet.summary()\r\n"
      ],
      "execution_count": 10,
      "outputs": [
        {
          "output_type": "stream",
          "text": [
            "Model: \"sequential\"\n",
            "_________________________________________________________________\n",
            "Layer (type)                 Output Shape              Param #   \n",
            "=================================================================\n",
            "conv2d (Conv2D)              (None, 55, 55, 96)        34944     \n",
            "_________________________________________________________________\n",
            "activation (Activation)      (None, 55, 55, 96)        0         \n",
            "_________________________________________________________________\n",
            "max_pooling2d (MaxPooling2D) (None, 27, 27, 96)        0         \n",
            "_________________________________________________________________\n",
            "batch_normalization (BatchNo (None, 27, 27, 96)        384       \n",
            "_________________________________________________________________\n",
            "conv2d_1 (Conv2D)            (None, 17, 17, 256)       2973952   \n",
            "_________________________________________________________________\n",
            "activation_1 (Activation)    (None, 17, 17, 256)       0         \n",
            "_________________________________________________________________\n",
            "max_pooling2d_1 (MaxPooling2 (None, 8, 8, 256)         0         \n",
            "_________________________________________________________________\n",
            "batch_normalization_1 (Batch (None, 8, 8, 256)         1024      \n",
            "_________________________________________________________________\n",
            "conv2d_2 (Conv2D)            (None, 6, 6, 384)         885120    \n",
            "_________________________________________________________________\n",
            "activation_2 (Activation)    (None, 6, 6, 384)         0         \n",
            "_________________________________________________________________\n",
            "batch_normalization_2 (Batch (None, 6, 6, 384)         1536      \n",
            "_________________________________________________________________\n",
            "conv2d_3 (Conv2D)            (None, 4, 4, 384)         1327488   \n",
            "_________________________________________________________________\n",
            "activation_3 (Activation)    (None, 4, 4, 384)         0         \n",
            "_________________________________________________________________\n",
            "batch_normalization_3 (Batch (None, 4, 4, 384)         1536      \n",
            "_________________________________________________________________\n",
            "conv2d_4 (Conv2D)            (None, 2, 2, 256)         884992    \n",
            "_________________________________________________________________\n",
            "activation_4 (Activation)    (None, 2, 2, 256)         0         \n",
            "_________________________________________________________________\n",
            "max_pooling2d_2 (MaxPooling2 (None, 1, 1, 256)         0         \n",
            "_________________________________________________________________\n",
            "batch_normalization_4 (Batch (None, 1, 1, 256)         1024      \n",
            "_________________________________________________________________\n",
            "flatten (Flatten)            (None, 256)               0         \n",
            "_________________________________________________________________\n",
            "dense (Dense)                (None, 4096)              1052672   \n",
            "_________________________________________________________________\n",
            "activation_5 (Activation)    (None, 4096)              0         \n",
            "_________________________________________________________________\n",
            "dropout (Dropout)            (None, 4096)              0         \n",
            "_________________________________________________________________\n",
            "batch_normalization_5 (Batch (None, 4096)              16384     \n",
            "_________________________________________________________________\n",
            "dense_1 (Dense)              (None, 4096)              16781312  \n",
            "_________________________________________________________________\n",
            "activation_6 (Activation)    (None, 4096)              0         \n",
            "_________________________________________________________________\n",
            "dropout_1 (Dropout)          (None, 4096)              0         \n",
            "_________________________________________________________________\n",
            "batch_normalization_6 (Batch (None, 4096)              16384     \n",
            "_________________________________________________________________\n",
            "dense_2 (Dense)              (None, 4)                 16388     \n",
            "_________________________________________________________________\n",
            "activation_7 (Activation)    (None, 4)                 0         \n",
            "=================================================================\n",
            "Total params: 23,995,140\n",
            "Trainable params: 23,976,004\n",
            "Non-trainable params: 19,136\n",
            "_________________________________________________________________\n"
          ],
          "name": "stdout"
        }
      ]
    },
    {
      "cell_type": "code",
      "metadata": {
        "id": "-uitF_auE1dL"
      },
      "source": [
        "\r\n",
        "from sklearn.model_selection import train_test_split"
      ],
      "execution_count": 15,
      "outputs": []
    },
    {
      "cell_type": "code",
      "metadata": {
        "id": "LT3xVEwuE5NY"
      },
      "source": [
        "(X_train, X_valid, y_train, y_valid) = train_test_split(X_train, y_train,\r\n",
        "                                                        test_size=0.2,\r\n",
        "                                                        random_state=42)"
      ],
      "execution_count": 17,
      "outputs": []
    },
    {
      "cell_type": "code",
      "metadata": {
        "id": "phR1pyTJMr9Z"
      },
      "source": [
        "from keras.optimizers import SGD\r\n",
        "sgd = SGD(lr=0.001, decay=1e-7, momentum=.9)"
      ],
      "execution_count": 18,
      "outputs": []
    },
    {
      "cell_type": "code",
      "metadata": {
        "id": "BGcUouvEYqsC"
      },
      "source": [
        "# compiling model\r\n",
        "# using categorical_crossentropy loss to Computes the crossentropy loss between the labels and predictions\r\n",
        "# -(ylog(p)+(1-y)log(1-p)) is used for cross entropy loss\r\n",
        "# the optimizer adam utilizes the concept of momentum by adding fractions of previous gradients to the current one\r\n",
        "# matrics =['acuracy'] Calculates how often predictions equal labels and returns\r\n",
        "# This metric creates two local variables, total and count that are used to compute the\r\n",
        "# frequency with which y_pred matches y_true\r\n",
        "alexnet.compile(optimizer = sgd , loss = 'categorical_crossentropy' , metrics=['accuracy'])"
      ],
      "execution_count": 19,
      "outputs": []
    },
    {
      "cell_type": "code",
      "metadata": {
        "colab": {
          "base_uri": "https://localhost:8080/"
        },
        "id": "ysWcDCWr6H-i",
        "outputId": "955a23f1-9ad9-4c5d-8605-270ebb284c71"
      },
      "source": [
        "\r\n",
        "# training our model\r\n",
        "# we are using .fit method instead of .fit_generator because we have tensorflow 2.4.0\r\n",
        "hist=alexnet.fit(X_train, y_train,epochs=50, batch_size=128, validation_data=(X_valid, y_valid))"
      ],
      "execution_count": 20,
      "outputs": [
        {
          "output_type": "stream",
          "text": [
            "Epoch 1/50\n",
            "10/10 [==============================] - 3s 179ms/step - loss: 0.5587 - accuracy: 0.8886 - val_loss: 0.1966 - val_accuracy: 0.9346\n",
            "Epoch 2/50\n",
            "10/10 [==============================] - 1s 120ms/step - loss: 0.2936 - accuracy: 0.9214 - val_loss: 0.1772 - val_accuracy: 0.9315\n",
            "Epoch 3/50\n",
            "10/10 [==============================] - 1s 122ms/step - loss: 0.1722 - accuracy: 0.9284 - val_loss: 0.2617 - val_accuracy: 0.9065\n",
            "Epoch 4/50\n",
            "10/10 [==============================] - 1s 122ms/step - loss: 0.1183 - accuracy: 0.9593 - val_loss: 0.1589 - val_accuracy: 0.9439\n",
            "Epoch 5/50\n",
            "10/10 [==============================] - 1s 122ms/step - loss: 0.0927 - accuracy: 0.9640 - val_loss: 0.1464 - val_accuracy: 0.9470\n",
            "Epoch 6/50\n",
            "10/10 [==============================] - 1s 124ms/step - loss: 0.0597 - accuracy: 0.9818 - val_loss: 0.1333 - val_accuracy: 0.9470\n",
            "Epoch 7/50\n",
            "10/10 [==============================] - 1s 123ms/step - loss: 0.0609 - accuracy: 0.9840 - val_loss: 0.1291 - val_accuracy: 0.9533\n",
            "Epoch 8/50\n",
            "10/10 [==============================] - 1s 124ms/step - loss: 0.0478 - accuracy: 0.9882 - val_loss: 0.1806 - val_accuracy: 0.9221\n",
            "Epoch 9/50\n",
            "10/10 [==============================] - 1s 125ms/step - loss: 0.0351 - accuracy: 0.9918 - val_loss: 0.1799 - val_accuracy: 0.9377\n",
            "Epoch 10/50\n",
            "10/10 [==============================] - 1s 123ms/step - loss: 0.0368 - accuracy: 0.9868 - val_loss: 0.1459 - val_accuracy: 0.9502\n",
            "Epoch 11/50\n",
            "10/10 [==============================] - 1s 125ms/step - loss: 0.0373 - accuracy: 0.9900 - val_loss: 0.1599 - val_accuracy: 0.9408\n",
            "Epoch 12/50\n",
            "10/10 [==============================] - 1s 127ms/step - loss: 0.0297 - accuracy: 0.9900 - val_loss: 0.1629 - val_accuracy: 0.9439\n",
            "Epoch 13/50\n",
            "10/10 [==============================] - 1s 126ms/step - loss: 0.0192 - accuracy: 0.9974 - val_loss: 0.1515 - val_accuracy: 0.9470\n",
            "Epoch 14/50\n",
            "10/10 [==============================] - 1s 124ms/step - loss: 0.0337 - accuracy: 0.9894 - val_loss: 0.1203 - val_accuracy: 0.9657\n",
            "Epoch 15/50\n",
            "10/10 [==============================] - 1s 125ms/step - loss: 0.0227 - accuracy: 0.9959 - val_loss: 0.1252 - val_accuracy: 0.9564\n",
            "Epoch 16/50\n",
            "10/10 [==============================] - 1s 127ms/step - loss: 0.0172 - accuracy: 0.9982 - val_loss: 0.1448 - val_accuracy: 0.9408\n",
            "Epoch 17/50\n",
            "10/10 [==============================] - 1s 125ms/step - loss: 0.0212 - accuracy: 0.9963 - val_loss: 0.1516 - val_accuracy: 0.9502\n",
            "Epoch 18/50\n",
            "10/10 [==============================] - 1s 126ms/step - loss: 0.0245 - accuracy: 0.9941 - val_loss: 0.1493 - val_accuracy: 0.9470\n",
            "Epoch 19/50\n",
            "10/10 [==============================] - 1s 125ms/step - loss: 0.0153 - accuracy: 0.9983 - val_loss: 0.1227 - val_accuracy: 0.9595\n",
            "Epoch 20/50\n",
            "10/10 [==============================] - 1s 123ms/step - loss: 0.0124 - accuracy: 0.9980 - val_loss: 0.1064 - val_accuracy: 0.9720\n",
            "Epoch 21/50\n",
            "10/10 [==============================] - 1s 123ms/step - loss: 0.0125 - accuracy: 0.9978 - val_loss: 0.1107 - val_accuracy: 0.9688\n",
            "Epoch 22/50\n",
            "10/10 [==============================] - 1s 125ms/step - loss: 0.0125 - accuracy: 0.9974 - val_loss: 0.1153 - val_accuracy: 0.9657\n",
            "Epoch 23/50\n",
            "10/10 [==============================] - 1s 124ms/step - loss: 0.0114 - accuracy: 1.0000 - val_loss: 0.1241 - val_accuracy: 0.9564\n",
            "Epoch 24/50\n",
            "10/10 [==============================] - 1s 123ms/step - loss: 0.0115 - accuracy: 0.9986 - val_loss: 0.1174 - val_accuracy: 0.9595\n",
            "Epoch 25/50\n",
            "10/10 [==============================] - 1s 124ms/step - loss: 0.0087 - accuracy: 0.9989 - val_loss: 0.1153 - val_accuracy: 0.9720\n",
            "Epoch 26/50\n",
            "10/10 [==============================] - 1s 123ms/step - loss: 0.0075 - accuracy: 1.0000 - val_loss: 0.1233 - val_accuracy: 0.9657\n",
            "Epoch 27/50\n",
            "10/10 [==============================] - 1s 121ms/step - loss: 0.0069 - accuracy: 1.0000 - val_loss: 0.1343 - val_accuracy: 0.9595\n",
            "Epoch 28/50\n",
            "10/10 [==============================] - 1s 123ms/step - loss: 0.0053 - accuracy: 1.0000 - val_loss: 0.1328 - val_accuracy: 0.9564\n",
            "Epoch 29/50\n",
            "10/10 [==============================] - 1s 123ms/step - loss: 0.0075 - accuracy: 0.9989 - val_loss: 0.1240 - val_accuracy: 0.9688\n",
            "Epoch 30/50\n",
            "10/10 [==============================] - 1s 123ms/step - loss: 0.0069 - accuracy: 1.0000 - val_loss: 0.1159 - val_accuracy: 0.9657\n",
            "Epoch 31/50\n",
            "10/10 [==============================] - 1s 119ms/step - loss: 0.0105 - accuracy: 0.9974 - val_loss: 0.1111 - val_accuracy: 0.9688\n",
            "Epoch 32/50\n",
            "10/10 [==============================] - 1s 120ms/step - loss: 0.0048 - accuracy: 0.9999 - val_loss: 0.1109 - val_accuracy: 0.9688\n",
            "Epoch 33/50\n",
            "10/10 [==============================] - 1s 123ms/step - loss: 0.0057 - accuracy: 1.0000 - val_loss: 0.1133 - val_accuracy: 0.9657\n",
            "Epoch 34/50\n",
            "10/10 [==============================] - 1s 126ms/step - loss: 0.0052 - accuracy: 0.9996 - val_loss: 0.1160 - val_accuracy: 0.9626\n",
            "Epoch 35/50\n",
            "10/10 [==============================] - 1s 125ms/step - loss: 0.0080 - accuracy: 0.9995 - val_loss: 0.1249 - val_accuracy: 0.9564\n",
            "Epoch 36/50\n",
            "10/10 [==============================] - 1s 123ms/step - loss: 0.0040 - accuracy: 0.9995 - val_loss: 0.1430 - val_accuracy: 0.9533\n",
            "Epoch 37/50\n",
            "10/10 [==============================] - 1s 122ms/step - loss: 0.0076 - accuracy: 1.0000 - val_loss: 0.1433 - val_accuracy: 0.9564\n",
            "Epoch 38/50\n",
            "10/10 [==============================] - 1s 125ms/step - loss: 0.0050 - accuracy: 1.0000 - val_loss: 0.1326 - val_accuracy: 0.9564\n",
            "Epoch 39/50\n",
            "10/10 [==============================] - 1s 125ms/step - loss: 0.0041 - accuracy: 1.0000 - val_loss: 0.1331 - val_accuracy: 0.9595\n",
            "Epoch 40/50\n",
            "10/10 [==============================] - 1s 119ms/step - loss: 0.0062 - accuracy: 0.9978 - val_loss: 0.1402 - val_accuracy: 0.9595\n",
            "Epoch 41/50\n",
            "10/10 [==============================] - 1s 122ms/step - loss: 0.0040 - accuracy: 0.9995 - val_loss: 0.1382 - val_accuracy: 0.9564\n",
            "Epoch 42/50\n",
            "10/10 [==============================] - 1s 123ms/step - loss: 0.0049 - accuracy: 0.9986 - val_loss: 0.1332 - val_accuracy: 0.9564\n",
            "Epoch 43/50\n",
            "10/10 [==============================] - 1s 124ms/step - loss: 0.0037 - accuracy: 1.0000 - val_loss: 0.1310 - val_accuracy: 0.9595\n",
            "Epoch 44/50\n",
            "10/10 [==============================] - 1s 125ms/step - loss: 0.0054 - accuracy: 0.9997 - val_loss: 0.1312 - val_accuracy: 0.9626\n",
            "Epoch 45/50\n",
            "10/10 [==============================] - 1s 124ms/step - loss: 0.0045 - accuracy: 1.0000 - val_loss: 0.1372 - val_accuracy: 0.9533\n",
            "Epoch 46/50\n",
            "10/10 [==============================] - 1s 123ms/step - loss: 0.0053 - accuracy: 1.0000 - val_loss: 0.1270 - val_accuracy: 0.9657\n",
            "Epoch 47/50\n",
            "10/10 [==============================] - 1s 123ms/step - loss: 0.0038 - accuracy: 1.0000 - val_loss: 0.1296 - val_accuracy: 0.9595\n",
            "Epoch 48/50\n",
            "10/10 [==============================] - 1s 136ms/step - loss: 0.0052 - accuracy: 0.9995 - val_loss: 0.1433 - val_accuracy: 0.9595\n",
            "Epoch 49/50\n",
            "10/10 [==============================] - 1s 120ms/step - loss: 0.0036 - accuracy: 1.0000 - val_loss: 0.1560 - val_accuracy: 0.9595\n",
            "Epoch 50/50\n",
            "10/10 [==============================] - 1s 118ms/step - loss: 0.0032 - accuracy: 1.0000 - val_loss: 0.1540 - val_accuracy: 0.9595\n"
          ],
          "name": "stdout"
        }
      ]
    },
    {
      "cell_type": "code",
      "metadata": {
        "id": "Y6Obk__1Ab64"
      },
      "source": [
        "_# loading validation data\r\n",
        "path_test = \"/content/ValData\"\r\n"
      ],
      "execution_count": 21,
      "outputs": []
    },
    {
      "cell_type": "code",
      "metadata": {
        "colab": {
          "base_uri": "https://localhost:8080/"
        },
        "id": "da42rSApFrha",
        "outputId": "b7706126-0094-4317-9dfb-c8afebeb6302"
      },
      "source": [
        "print('loading test images')\r\n",
        "X_test, y_test = load_data(path_test)"
      ],
      "execution_count": 30,
      "outputs": [
        {
          "output_type": "stream",
          "text": [
            "  2%|▏         | 5/205 [00:00<00:04, 47.57it/s]"
          ],
          "name": "stderr"
        },
        {
          "output_type": "stream",
          "text": [
            "loading test images\n"
          ],
          "name": "stdout"
        },
        {
          "output_type": "stream",
          "text": [
            "100%|██████████| 205/205 [00:02<00:00, 72.91it/s]\n",
            "100%|██████████| 450/450 [00:11<00:00, 37.58it/s]\n",
            "100%|██████████| 324/324 [00:03<00:00, 83.01it/s]\n",
            "100%|██████████| 9/9 [00:00<00:00, 185.59it/s]\n"
          ],
          "name": "stderr"
        }
      ]
    },
    {
      "cell_type": "code",
      "metadata": {
        "id": "FAldDhZ5GATO"
      },
      "source": [
        "y_test = lb.fit_transform(y_test)"
      ],
      "execution_count": 31,
      "outputs": []
    },
    {
      "cell_type": "code",
      "metadata": {
        "colab": {
          "base_uri": "https://localhost:8080/",
          "height": 299
        },
        "id": "fXIPck4jGeej",
        "outputId": "a6644e1e-c4e9-484f-96d4-2374813da35c"
      },
      "source": [
        "'''LEARNING CURVE'''\r\n",
        "\r\n",
        "import matplotlib.pyplot as plt\r\n",
        "N = np.arange(0, 50)\r\n",
        "plt.style.use('ggplot')\r\n",
        "plt.figure()\r\n",
        "plt.plot(N, hist.history['loss'], label='train_loss')\r\n",
        "plt.plot(N, hist.history['val_loss'], label='val_loss')\r\n",
        "plt.plot(N, hist.history['accuracy'], label='train_accuracy')\r\n",
        "plt.plot(N, hist.history['val_accuracy'], label='val_accuracy')\r\n",
        "plt.title('Training loss and accuracy')\r\n",
        "plt.xlabel('Epoch #')\r\n",
        "plt.ylabel('Loss/Accuracy')\r\n",
        "plt.legend()\r\n",
        "plt.show()"
      ],
      "execution_count": 32,
      "outputs": [
        {
          "output_type": "display_data",
          "data": {
            "image/png": "[encoded data removed]",
            "text/plain": [
              "<Figure size 432x288 with 1 Axes>"
            ]
          },
          "metadata": {
            "tags": []
          }
        }
      ]
    },
    {
      "cell_type": "code",
      "metadata": {
        "colab": {
          "base_uri": "https://localhost:8080/"
        },
        "id": "Daq7vqu18l5t",
        "outputId": "95d9ee14-4080-4998-b8c5-0c55b0edbb2c"
      },
      "source": [
        "# checking cross validation accuracy/test accuracy\r\n",
        "preds = alexnet.evaluate(X_test,y_test,batch_size=64)\r\n",
        "print (\"Loss = \" + str(preds[0]))\r\n",
        "print (\"Test Accuracy = \" + str(preds[1]))"
      ],
      "execution_count": 33,
      "outputs": [
        {
          "output_type": "stream",
          "text": [
            "16/16 [==============================] - 1s 38ms/step - loss: 1.5790 - accuracy: 0.7358\n",
            "Loss = 1.5789988040924072\n",
            "Test Accuracy = 0.7358299493789673\n"
          ],
          "name": "stdout"
        }
      ]
    },
    {
      "cell_type": "code",
      "metadata": {
        "id": "ZisaYz_R4hj3"
      },
      "source": [
        "import sklearn.metrics as metrics"
      ],
      "execution_count": 34,
      "outputs": []
    },
    {
      "cell_type": "code",
      "metadata": {
        "colab": {
          "base_uri": "https://localhost:8080/"
        },
        "id": "tRc5fggM4T7V",
        "outputId": "ec3ff5de-6a80-4bf5-bf0b-89367f211ab0"
      },
      "source": [
        "'''CONFUSION MATRIX'''\r\n",
        "# Making prediction\r\n",
        "y_pred = alexnet.predict_classes(X_test)\r\n",
        "y_true = np.argmax(y_test, axis=-1)\r\n",
        "\r\n",
        "# Plotting the confusion matrix\r\n",
        "from sklearn.metrics import confusion_matrix\r\n",
        "confusion_mtx = confusion_matrix(y_true, y_pred)"
      ],
      "execution_count": 35,
      "outputs": [
        {
          "output_type": "stream",
          "text": [
            "/usr/local/lib/python3.6/dist-packages/tensorflow/python/keras/engine/sequential.py:450: UserWarning: `model.predict_classes()` is deprecated and will be removed after 2021-01-01. Please use instead:* `np.argmax(model.predict(x), axis=-1)`,   if your model does multi-class classification   (e.g. if it uses a `softmax` last-layer activation).* `(model.predict(x) > 0.5).astype(\"int32\")`,   if your model does binary classification   (e.g. if it uses a `sigmoid` last-layer activation).\n",
            "  warnings.warn('`model.predict_classes()` is deprecated and '\n"
          ],
          "name": "stderr"
        }
      ]
    },
    {
      "cell_type": "code",
      "metadata": {
        "colab": {
          "base_uri": "https://localhost:8080/"
        },
        "id": "41_OB2IWHq6K",
        "outputId": "29c4eda7-7e23-4e50-dde8-4d5db8a741da"
      },
      "source": [
        "confusion_mtx"
      ],
      "execution_count": 36,
      "outputs": [
        {
          "output_type": "execute_result",
          "data": {
            "text/plain": [
              "array([[201,   0,  17, 106],\n",
              "       [  2,   4,   3,   0],\n",
              "       [  1,   1, 436,  12],\n",
              "       [103,   2,  14,  86]])"
            ]
          },
          "metadata": {
            "tags": []
          },
          "execution_count": 36
        }
      ]
    },
    {
      "cell_type": "code",
      "metadata": {
        "colab": {
          "base_uri": "https://localhost:8080/",
          "height": 375
        },
        "id": "Gjt4u6qAiArc",
        "outputId": "6e7b54c9-fe7c-4a44-a650-04a2e4c4ba15"
      },
      "source": [
        "import seaborn as sns\r\n",
        "class_names=[\"BacterialPeniumonia\",\"COVID-19\",\"Normal\",\"ViralPeniumonia\"]\r\n",
        "sns.heatmap(confusion_mtx, xticklabels=class_names, yticklabels=class_names, annot=True, fmt='d', cmap=\"YlGnBu\")"
      ],
      "execution_count": 37,
      "outputs": [
        {
          "output_type": "execute_result",
          "data": {
            "text/plain": [
              "<matplotlib.axes._subplots.AxesSubplot at 0x7fc17eb13cf8>"
            ]
          },
          "metadata": {
            "tags": []
          },
          "execution_count": 37
        },
        {
          "output_type": "display_data",
          "data": {
            "image/png": "[encoded data removed]",
            "text/plain": [
              "<Figure size 432x288 with 2 Axes>"
            ]
          },
          "metadata": {
            "tags": []
          }
        }
      ]
    }
  ]
}